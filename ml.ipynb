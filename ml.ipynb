{
 "cells": [
  {
   "cell_type": "code",
   "execution_count": 231,
   "metadata": {},
   "outputs": [
    {
     "name": "stdout",
     "output_type": "stream",
     "text": [
      "AxesSubplot(0.125,0.125;0.775x0.755)\n"
     ]
    },
    {
     "data": {
      "image/png": "[encoded data removed]",
      "text/plain": [
       "<Figure size 432x288 with 1 Axes>"
      ]
     },
     "metadata": {},
     "output_type": "display_data"
    }
   ],
   "source": [
    "from pandas import DataFrame\n",
    "from sklearn.datasets.samples_generator import make_blobs\n",
    "from matplotlib import pyplot\n",
    "\n",
    "#Dataset\n",
    "\n",
    "X, y = make_blobs(n_samples=20, centers=2, n_features=2)\n",
    "x0 = [1]*len(y)\n",
    "for i in range(len(y)):\n",
    "    if(y[i]==0):\n",
    "        y[i]= -1\n",
    "\n",
    "# scatter plot\n",
    "df = DataFrame(dict(bias=x0, x=X[:,0], y=X[:,1], label=y))\n",
    "\n",
    "col = {1:'green',-1:'red'}\n",
    "group = df.groupby('label')\n",
    "figure, ax = pyplot.subplots()\n",
    "print(ax)\n",
    "for key, group in group:\n",
    "    group.plot(ax=ax, kind='scatter', x='x', y='y', label=key, color=col[key])\n",
    "#pyplot.plot()"
   ]
  },
  {
   "cell_type": "code",
   "execution_count": 232,
   "metadata": {},
   "outputs": [
    {
     "name": "stdout",
     "output_type": "stream",
     "text": [
      "None\n"
     ]
    }
   ],
   "source": [
    "print(df.to_csv(\"Data202.csv\"))"
   ]
  },
  {
   "cell_type": "code",
   "execution_count": 251,
   "metadata": {},
   "outputs": [
    {
     "data": {
      "text/plain": [
       "[]"
      ]
     },
     "execution_count": 251,
     "metadata": {},
     "output_type": "execute_result"
    },
    {
     "data": {
      "image/png": "[encoded data removed]",
      "text/plain": [
       "<Figure size 432x288 with 1 Axes>"
      ]
     },
     "metadata": {},
     "output_type": "display_data"
    }
   ],
   "source": [
    "import numpy as np\n",
    "import pandas as pd\n",
    "\n",
    "dt = pd.read_csv(\"Data202.csv\")\n",
    "col = {1:'green',-1:'red'}\n",
    "fig, ax = pyplot.subplots()\n",
    "line = np.linspace(0, 2, 1000)\n",
    "grouped = dt.groupby('label')\n",
    "for key, group in grouped:\n",
    "    group.plot(ax=ax, kind='scatter', x='x', y='y', label=key, color=col[key])\n",
    "pyplot.plot(linespan, slope*line -1 , '-y') \n",
    "pyplot.plot()\n"
   ]
  },
  {
   "cell_type": "code",
   "execution_count": 252,
   "metadata": {},
   "outputs": [
    {
     "name": "stdout",
     "output_type": "stream",
     "text": [
      "[0. 0. 0.]\n",
      "Iteration:  2\n",
      "Slope:  -0.014755705761558201\n",
      "Intercept:  -0.0\n",
      "Weight:  [0.         0.07727574 5.2370074 ]\n"
     ]
    },
    {
     "data": {
      "text/plain": [
       "[<matplotlib.lines.Line2D at 0x1a2756eda0>]"
      ]
     },
     "execution_count": 252,
     "metadata": {},
     "output_type": "execute_result"
    },
    {
     "data": {
      "image/png": "[encoded data removed]",
      "text/plain": [
       "<Figure size 432x288 with 1 Axes>"
      ]
     },
     "metadata": {},
     "output_type": "display_data"
    }
   ],
   "source": [
    "def perceptron_algo(x,y):\n",
    "    count =0\n",
    "    w = np.zeros(len(x.iloc[0]))\n",
    "    print(w)\n",
    "    flag = True\n",
    "    \n",
    "    while flag != False:\n",
    "        flag = False\n",
    "        for i in range(len(x)):\n",
    "           \n",
    "            if(np.dot(x.iloc[i],w)*y[i] <=0):\n",
    "\n",
    "                #Weight Update..\n",
    "                #w[t] = w[t] + x[i]*y[i]                \n",
    "                w[0]= w[0] + x.iloc[i,0]*y[i]\n",
    "                w[1]= w[1] + x.iloc[i,1]*y[i]\n",
    "                w[2]= w[2] + x.iloc[i,2]*y[i]\n",
    "                flag = True\n",
    "        \n",
    "        count = count + 1\n",
    "    print(\"Iteration: \", count)\n",
    "    return w\n",
    "\n",
    "\n",
    "#Perceptron Algorithm Call\n",
    "weights = perceptron_algo(dt.iloc[0: ,1:4],dt[\"label\"])\n",
    "\n",
    "#Slope and intercept\n",
    "slope = -(weights[1]/weights[2])  \n",
    "intercept = -weights[0]/weights[2]\n",
    "\n",
    "col = {1:'green',-1:'red'}\n",
    "print(\"Slope: \",slope)\n",
    "print(\"Intercept: \",intercept)\n",
    "print(\"Weight: \",weight)\n",
    "\n",
    "fig, ax = pyplot.subplots()\n",
    "group = dt.groupby('label')\n",
    "line = np.linspace(-3,7,1000)\n",
    "for key, group in group:\n",
    "    group.plot(ax=ax, kind='scatter', x='x', y='y', label=key, color=col[key])\n",
    "\n",
    "#TARGET FUCTION\n",
    "pyplot.plot(line, 0*line - 3.99 , '-y')\n",
    "#FINAL HYPOTHESIS\n",
    "pyplot.plot(line, slope*line + intercept, '-b') \n",
    "\n",
    " \n"
   ]
  },
  {
   "cell_type": "code",
   "execution_count": null,
   "metadata": {},
   "outputs": [],
   "source": []
  },
  {
   "cell_type": "code",
   "execution_count": null,
   "metadata": {},
   "outputs": [],
   "source": []
  }
 ],
 "metadata": {
  "kernelspec": {
   "display_name": "Python 3",
   "language": "python",
   "name": "python3"
  },
  "language_info": {
   "codemirror_mode": {
    "name": "ipython",
    "version": 3
   },
   "file_extension": ".py",
   "mimetype": "text/x-python",
   "name": "python",
   "nbconvert_exporter": "python",
   "pygments_lexer": "ipython3",
   "version": "3.6.5"
  }
 },
 "nbformat": 4,
 "nbformat_minor": 2
}
